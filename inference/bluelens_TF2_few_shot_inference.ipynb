{
 "cells": [
  {
   "cell_type": "code",
   "execution_count": 1,
   "metadata": {},
   "outputs": [],
   "source": [
    "import matplotlib\n",
    "import matplotlib.pyplot as plt\n",
    "\n",
    "import os\n",
    "import random\n",
    "import io\n",
    "import imageio\n",
    "import glob\n",
    "import scipy.misc\n",
    "import numpy as np\n",
    "from numpy import asarray\n",
    "import pandas as pd\n",
    "from six import BytesIO\n",
    "from PIL import Image, ImageDraw, ImageFont\n",
    "from IPython.display import display, Javascript\n",
    "from IPython.display import Image as IPyImage\n",
    "\n",
    "import tensorflow as tf\n",
    "\n",
    "from object_detection.utils import label_map_util\n",
    "from object_detection.utils import config_util\n",
    "from object_detection.utils import visualization_utils as viz_utils\n",
    "from object_detection.utils import config_util\n",
    "from object_detection.builders import model_builder\n",
    "%matplotlib inline "
   ]
  },
  {
   "cell_type": "code",
   "execution_count": 2,
   "metadata": {},
   "outputs": [],
   "source": [
    "# Bounding Box Visualization pre-requesite\n",
    "\n",
    "DATA_FOLDER = '../data/'\n",
    "\n",
    "num_classes = 3\n",
    "\n",
    "cloud_class_id = 0\n",
    "water_class_id = 1\n",
    "ground_class_id = 2\n",
    "\n",
    "category_index = {\n",
    "  cloud_class_id: {'id': cloud_class_id, 'name': 'cloud'},\n",
    "  water_class_id: {'id': water_class_id, 'name': 'water'},\n",
    "  ground_class_id: {'id': ground_class_id, 'name': 'ground'},\n",
    "}\n",
    "\n",
    "label_2_category = {'cloud':0,'water':1,'ground':2}\n",
    "\n",
    "width, heigth = (2592, 1944) # these dimension are from astro pi default image"
   ]
  },
  {
   "cell_type": "code",
   "execution_count": 3,
   "metadata": {},
   "outputs": [],
   "source": [
    "def load_image_into_numpy_array(path):\n",
    "\n",
    "  img_data = tf.io.gfile.GFile(path, 'rb').read()\n",
    "  image = Image.open(BytesIO(img_data))\n",
    "  (im_width, im_height) = image.size\n",
    "  return np.array(image.getdata()).reshape(\n",
    "      (im_height, im_width, 3)).astype(np.uint8)\n",
    "\n",
    "\n",
    "def plot_detections(image_np,\n",
    "                    boxes,\n",
    "                    classes,\n",
    "                    scores,\n",
    "                    category_index,\n",
    "                    figsize=(12, 16),\n",
    "                    image_name=None):\n",
    " \n",
    "  image_np_with_annotations = image_np.copy()\n",
    "  viz_utils.visualize_boxes_and_labels_on_image_array(\n",
    "      image_np_with_annotations,\n",
    "      boxes,\n",
    "      classes,\n",
    "      scores,\n",
    "      category_index,\n",
    "      use_normalized_coordinates=True,\n",
    "      min_score_thresh=0.8)\n",
    "  if image_name:\n",
    "    plt.title(image_name)\n",
    "    plt.imshow(image_np_with_annotations)\n",
    "  else:\n",
    "    plt.imshow(image_np_with_annotations)"
   ]
  },
  {
   "cell_type": "markdown",
   "metadata": {},
   "source": [
    "# Parsing XML annotation"
   ]
  },
  {
   "cell_type": "code",
   "execution_count": 4,
   "metadata": {},
   "outputs": [],
   "source": [
    "import xml.etree.ElementTree as ET\n",
    "\n",
    "# Get Image Annotation from XML Pascal VOC file\n",
    "def get_img_annotations(img_xml_annotations_path):\n",
    "  img_tree = ET.parse(img_xml_annotations_path)\n",
    "  img_root = img_tree.getroot()\n",
    "  labels_list = []\n",
    "  bbox_list = []\n",
    "  for child in img_root:\n",
    "    if child.tag == \"object\":\n",
    "      for element in child:\n",
    "        if element.tag == \"name\":\n",
    "          labels_list.append(element.text)\n",
    "        if element.tag == \"bndbox\":\n",
    "          bbox = []\n",
    "          for coordinates in element:\n",
    "            if coordinates.tag == \"xmin\":\n",
    "              bbox.append(coordinates.text)\n",
    "            if coordinates.tag == \"ymin\":\n",
    "              bbox.append(coordinates.text)\n",
    "            if coordinates.tag == \"xmax\":\n",
    "              bbox.append(coordinates.text)\n",
    "            if coordinates.tag == \"ymax\":\n",
    "              bbox.append(coordinates.text)\n",
    "          bbox_list.append(bbox)\n",
    "  return labels_list, bbox_list"
   ]
  },
  {
   "cell_type": "code",
   "execution_count": 5,
   "metadata": {},
   "outputs": [],
   "source": [
    "# Prepare Bounding Box so that it is normalized & invariant from image scale dimension\n",
    "def get_prepared_bbox(bbox, width, heigth):\n",
    "  for coord in bbox:\n",
    "    xmin_norm=int(bbox[0])/width\n",
    "    ymin_norm=int(bbox[1])/heigth\n",
    "    xmax_norm=int(bbox[2])/width\n",
    "    ymax_norm=int(bbox[3])/heigth\n",
    "  prepared_bbox = [ymin_norm,xmin_norm,ymax_norm,xmax_norm] # Object Detection Viz utils expected format\n",
    "  return prepared_bbox"
   ]
  },
  {
   "cell_type": "markdown",
   "metadata": {},
   "source": [
    "# Data Prepaparation for Inference"
   ]
  },
  {
   "cell_type": "code",
   "execution_count": 6,
   "metadata": {},
   "outputs": [],
   "source": [
    "# Get name of astropi Jpeg images\n",
    "def get_images_name(data_folder):\n",
    "  data = os.listdir(data_folder)\n",
    "  images_file_list = [file for file in data if os.path.splitext(file)[1] != '.xml'] # remove xml file\n",
    "  images_file_list.sort()\n",
    "  return images_file_list\n",
    "\n",
    "# Get name of astropi XML annotations\n",
    "def get_bboxes_file_name(data_folder):\n",
    "  data = os.listdir(data_folder)\n",
    "  bbox_file_list = [file for file in data if os.path.splitext(file)[1] != '.jpg']\n",
    "  bbox_file_list.sort()\n",
    "  return bbox_file_list\n",
    "\n",
    "# Get a List of astropi numpy images\n",
    "def get_numpy_images(images_file,data_folder):\n",
    "  np_images_list = []\n",
    "  for image_file in images_file:\n",
    "    img_pil = Image.open(data_folder+image_file)\n",
    "    img_np = asarray(img_pil)\n",
    "    np_images_list.append(img_np)\n",
    "  return np_images_list\n",
    "\n",
    "# Get a List of bboxes & classes for images\n",
    "def get_gt_box_class(bbox_file_list,data_folder):\n",
    "  gt_boxes_list = []\n",
    "  classes_list = []\n",
    "  for bboxes in bbox_file_list: \n",
    "    classes,gt_boxes=get_img_annotations(data_folder+bboxes)\n",
    "    gt_boxes_np = np.array(gt_boxes,dtype=np.float32)\n",
    "    gt_boxes_list.append(gt_boxes_np)\n",
    "    classes_list.append(classes)\n",
    "  return gt_boxes_list, classes_list\n",
    "  \n",
    "# Get a List of class_id for images\n",
    "def get_class_id(classes_list): \n",
    "  classes_id_list = []\n",
    "  for classes in classes_list:\n",
    "    id_list  = []\n",
    "    for label in classes:\n",
    "      id = label_2_category[label]\n",
    "      id_list.append(id)\n",
    "    classes_id_list.append(id_list)\n",
    "  return classes_id_list"
   ]
  },
  {
   "cell_type": "code",
   "execution_count": 7,
   "metadata": {},
   "outputs": [],
   "source": [
    "# Grab Data from raw JPEG & XML files to lists\n",
    "images_list = get_images_name(DATA_FOLDER)\n",
    "np_images_list = get_numpy_images(images_list,DATA_FOLDER)\n",
    "bboxes_file_list = get_bboxes_file_name(DATA_FOLDER)\n",
    "gt_boxes_list, classes_list = get_gt_box_class(bboxes_file_list,DATA_FOLDER)\n",
    "classes_id_list = get_class_id(classes_list)"
   ]
  },
  {
   "cell_type": "markdown",
   "metadata": {},
   "source": [
    "# Inference from SavedModel"
   ]
  },
  {
   "cell_type": "code",
   "execution_count": 8,
   "metadata": {},
   "outputs": [],
   "source": [
    "# Prepare Data for Training: convert all numpy arrays & lists to TF tensors\n",
    "\n",
    "def get_tensors_data(np_images_list,gt_boxes_list,classes_id_list):\n",
    "    image_tensors = [] # images tensor list from numpy array\n",
    "    gt_box_tensors = [] # bbox tensor list from gt_box list\n",
    "    class_one_hot_tensors = [] # 1-hot class tensor list from class list\n",
    "\n",
    "    for (image_np, gt_box_np,class_id) in zip(np_images_list, gt_boxes_list,classes_id_list):\n",
    "        image_tensors.append(tf.expand_dims(tf.convert_to_tensor(\n",
    "            image_np, dtype=tf.float32), axis=0))\n",
    "        gt_box_tensors.append(tf.convert_to_tensor(gt_box_np, dtype=tf.float32))\n",
    "        indexed_classes = tf.convert_to_tensor(class_id,dtype=tf.int32)\n",
    "        class_one_hot_tensors.append(tf.one_hot(\n",
    "            indexed_classes, num_classes))\n",
    "    print('Done prepping data.')\n",
    "    return image_tensors,gt_box_tensors,class_one_hot_tensors"
   ]
  },
  {
   "cell_type": "code",
   "execution_count": 9,
   "metadata": {},
   "outputs": [
    {
     "name": "stderr",
     "output_type": "stream",
     "text": [
      "2022-02-17 16:22:46.886108: I tensorflow/core/platform/cpu_feature_guard.cc:151] This TensorFlow binary is optimized with oneAPI Deep Neural Network Library (oneDNN) to use the following CPU instructions in performance-critical operations:  AVX2 FMA\n",
      "To enable them in other operations, rebuild TensorFlow with the appropriate compiler flags.\n"
     ]
    },
    {
     "name": "stdout",
     "output_type": "stream",
     "text": [
      "Done prepping data.\n"
     ]
    }
   ],
   "source": [
    "# Training Data\n",
    "image_tensors,gt_box_tensors,class_one_hot_tensors = get_tensors_data(np_images_list,gt_boxes_list,classes_id_list)"
   ]
  },
  {
   "cell_type": "code",
   "execution_count": 10,
   "metadata": {},
   "outputs": [],
   "source": [
    "# Load savedModel\n",
    "tf.keras.backend.clear_session()\n",
    "model = tf.saved_model.load('../training/export/saved_model')\n",
    "model_fn = model.signatures['serving_default']"
   ]
  },
  {
   "cell_type": "code",
   "execution_count": 11,
   "metadata": {},
   "outputs": [],
   "source": [
    "def get_resized_img(size_tuple,img_tensor):\n",
    "    resized_img = tf.image.resize(\n",
    "        img_tensor, size_tuple, preserve_aspect_ratio=False,\n",
    "        antialias=False, name=None\n",
    "    )\n",
    "    resized_img = tf.cast(resized_img,dtype=tf.uint8)\n",
    "    return resized_img\n",
    "\n",
    "def get_pad_resized_img(size,img_tensor):\n",
    "    resized_img = tf.image.resize_with_pad(\n",
    "        img_tensor, size,size,\n",
    "        antialias=False\n",
    "    )\n",
    "    resized_img = tf.cast(resized_img,dtype=tf.uint8)\n",
    "    return resized_img"
   ]
  },
  {
   "cell_type": "code",
   "execution_count": 12,
   "metadata": {},
   "outputs": [],
   "source": [
    "def get_predictions(image_name):\n",
    "  image_path = DATA_FOLDER+image_name+'.jpg'\n",
    "  image = Image.open(image_path)\n",
    "  image = np.asarray(image)\n",
    "  input_tensor = tf.convert_to_tensor(image)\n",
    "  input_tensor = input_tensor[tf.newaxis,...]\n",
    "  input_tensor = get_pad_resized_img(320,input_tensor)\n",
    "  output_dict = model_fn(input_tensor)\n",
    "  return output_dict\n",
    "  \n",
    "\n",
    "def get_prediction_bboxes(image_name):\n",
    "  image_path = DATA_FOLDER+image_name+'.jpg'\n",
    "  image = Image.open(image_path)\n",
    "  image = np.asarray(image)\n",
    "  input_tensor = tf.convert_to_tensor(image)\n",
    "  input_tensor = input_tensor[tf.newaxis,...]\n",
    "  input_tensor = get_pad_resized_img(320,input_tensor)\n",
    "  output_dict = model_fn(input_tensor)\n",
    "  bboxes = output_dict['detection_boxes'].numpy()\n",
    "  return bboxes[0]\n",
    "\n",
    "\n",
    "def get_prediction_classes(image_name):\n",
    "  image_path = DATA_FOLDER+image_name+'.jpg'\n",
    "  image = Image.open(image_path)\n",
    "  image = np.asarray(image)\n",
    "  input_tensor = tf.convert_to_tensor(image)\n",
    "  input_tensor = input_tensor[tf.newaxis,...]\n",
    "  input_tensor = get_pad_resized_img(320,input_tensor)\n",
    "  output_dict = model_fn(input_tensor)\n",
    "  classes = output_dict['detection_classes'].numpy()\n",
    "  return classes[0]\n",
    "\n",
    "\n",
    "def get_prediction_scores(image_name):\n",
    "  image_path = DATA_FOLDER+image_name+'.jpg'\n",
    "  image = Image.open(image_path)\n",
    "  image = np.asarray(image)\n",
    "  input_tensor = tf.convert_to_tensor(image)\n",
    "  input_tensor = input_tensor[tf.newaxis,...]\n",
    "  input_tensor = get_pad_resized_img(320,input_tensor)\n",
    "  output_dict = model_fn(input_tensor)\n",
    "  classes = output_dict['detection_scores'].numpy()\n",
    "  return classes[0]\n",
    "\n",
    "\n",
    "def get_predictions_all(image_name):\n",
    "  image_path = DATA_FOLDER+image_name+'.jpg'\n",
    "  image = Image.open(image_path)\n",
    "  image = np.asarray(image)\n",
    "  input_tensor = tf.convert_to_tensor(image)\n",
    "  input_tensor = input_tensor[tf.newaxis,...]\n",
    "  input_tensor = get_pad_resized_img(320,input_tensor)\n",
    "  output_dict = model_fn(input_tensor)\n",
    "  bboxes = output_dict['detection_boxes'].numpy()\n",
    "  classes = output_dict['detection_classes'].numpy()\n",
    "  scores = output_dict['detection_scores'].numpy()\n",
    "  return bboxes,classes,scores"
   ]
  },
  {
   "cell_type": "code",
   "execution_count": 13,
   "metadata": {},
   "outputs": [],
   "source": [
    "# Get raw image prediction \n",
    "img = 'zz_astropi_1_photo_189'\n",
    "predictions = get_predictions(img)\n",
    "prediction_bboxes = get_prediction_bboxes(img)\n",
    "prediction_classes = get_prediction_classes(img)\n",
    "prediction_scores = get_prediction_scores(img)\n",
    "object_nb = prediction_bboxes.shape[1]"
   ]
  },
  {
   "cell_type": "code",
   "execution_count": 14,
   "metadata": {},
   "outputs": [],
   "source": [
    "def plot_detections(image_np,\n",
    "                    boxes,\n",
    "                    classes,\n",
    "                    scores,\n",
    "                    category_index,\n",
    "                    figsize=(12, 16),\n",
    "                    image_name=None):\n",
    " \n",
    "  image_np_with_annotations = image_np.copy()\n",
    "  viz_utils.visualize_boxes_and_labels_on_image_array(\n",
    "      image_np_with_annotations,\n",
    "      boxes,\n",
    "      classes,\n",
    "      scores,\n",
    "      category_index,\n",
    "      use_normalized_coordinates=True,\n",
    "      min_score_thresh=0.8)\n",
    "  if image_name:\n",
    "    #plt.imsave(image_name, image_np_with_annotations)\n",
    "    plt.title(image_name)\n",
    "    plt.imshow(image_np_with_annotations)\n",
    "  else:\n",
    "    plt.imshow(image_np_with_annotations)"
   ]
  },
  {
   "cell_type": "code",
   "execution_count": 15,
   "metadata": {},
   "outputs": [],
   "source": [
    "def get_image_with_annotation(image_name):\n",
    "  image_file = image_name + '.jpg'\n",
    "  xml_file = image_name + '.xml'\n",
    "  image = Image.open(DATA_FOLDER+image_file)\n",
    "  image_np = asarray(image)\n",
    "  labels, bboxes = get_img_annotations(DATA_FOLDER+xml_file) # get Labels + Bounding Boxes\n",
    "\n",
    "  # Prepared bbox as expected by Object Detection Viz utils\n",
    "  prepared_bboxes = [] \n",
    "  for bbox in bboxes:\n",
    "    prepared_bbox = get_prepared_bbox(bbox,width,heigth)\n",
    "    prepared_bboxes.append(prepared_bbox)\n",
    "\n",
    "  gt_box = np.array(prepared_bboxes, dtype=np.float32)\n",
    "\n",
    "  # plot_detections parameters\n",
    "  image_np_with_annotations = image_np.copy()\n",
    "  boxes = gt_box\n",
    "  class_list = []\n",
    "  for label in labels:\n",
    "    class_list.append(label_2_category[label])\n",
    "  classes = np.array(class_list,dtype=np.int32)\n",
    "  scores = np.array([1.0]*len(labels), dtype=np.float32)\n",
    "\n",
    "  # Plotting detection\n",
    "  plot_detections(\n",
    "    image_np_with_annotations,\n",
    "    boxes,\n",
    "    classes,\n",
    "    scores,\n",
    "    category_index,\n",
    "    image_name\n",
    "    )"
   ]
  },
  {
   "cell_type": "code",
   "execution_count": 16,
   "metadata": {},
   "outputs": [],
   "source": [
    "# Visualize Images with XML annotation prepared\n",
    "def get_image_with_predictions(image_name):\n",
    "  image_file = image_name + '.jpg'\n",
    "  image = Image.open(DATA_FOLDER+image_file)\n",
    "  image_np = asarray(image)\n",
    "\n",
    "  gt_box = get_prediction_bboxes(image_name)\n",
    "  classes = get_prediction_classes(image_name)\n",
    "\n",
    "  # plot_detections parameters\n",
    "  image_np_with_annotations = image_np.copy()\n",
    "  boxes = gt_box\n",
    "  class_list = []\n",
    "  for label in classes:\n",
    "    class_list.append(int(label))\n",
    "  classes = np.array(class_list,dtype=np.int32)\n",
    "  scores = np.array([1.0]*gt_box.shape[0], dtype=np.float32)\n",
    "\n",
    "  # Plotting detection\n",
    "  plot_detections(\n",
    "    image_np_with_annotations,\n",
    "    boxes,\n",
    "    classes,\n",
    "    scores,\n",
    "    category_index,\n",
    "    image_name\n",
    "    )"
   ]
  },
  {
   "cell_type": "code",
   "execution_count": 17,
   "metadata": {},
   "outputs": [],
   "source": [
    "i = 'zz_astropi_1_photo_189'\n",
    "compare_images = [i,i]"
   ]
  },
  {
   "cell_type": "code",
   "execution_count": 18,
   "metadata": {},
   "outputs": [
    {
     "data": {
      "image/png": "[encoded data removed]",
      "text/plain": [
       "<Figure size 432x288 with 2 Axes>"
      ]
     },
     "metadata": {
      "needs_background": "light"
     },
     "output_type": "display_data"
    }
   ],
   "source": [
    "for idx, image in enumerate(compare_images):\n",
    "  plt.subplot(1, 2, idx+1)\n",
    "  if idx == 0:\n",
    "    plt.title('Ground Truth')\n",
    "    get_image_with_annotation(image)\n",
    "  elif idx == 1:\n",
    "    plt.title('Predictions')\n",
    "    get_image_with_predictions(image)\n",
    "plt.show()"
   ]
  },
  {
   "cell_type": "markdown",
   "metadata": {},
   "source": [
    "# Inference from TFLite"
   ]
  },
  {
   "cell_type": "code",
   "execution_count": 51,
   "metadata": {},
   "outputs": [],
   "source": [
    "tflite_model_path  = '../training/tflite/model.tflite'"
   ]
  },
  {
   "cell_type": "code",
   "execution_count": 52,
   "metadata": {},
   "outputs": [],
   "source": [
    "def get_tflite_prepared_image(image_name):\n",
    "  image_file = image_name + '.jpg'\n",
    "  img_pil = Image.open(DATA_FOLDER+image_file)\n",
    "  img_np = asarray(img_pil)\n",
    "  img_tensor = tf.expand_dims(tf.convert_to_tensor(\n",
    "    img_np, dtype=tf.float32), axis=0)\n",
    "  preprocessed_img =  get_pad_resized_img(320,img_tensor)\n",
    "  return preprocessed_img"
   ]
  },
  {
   "cell_type": "code",
   "execution_count": 53,
   "metadata": {},
   "outputs": [],
   "source": [
    "def get_tflite_predictions(image_name,tflite_interpreter):\n",
    "  # Prepare image\n",
    "  preprocessed_img = get_tflite_prepared_image(image_name)\n",
    "  input_tensor = preprocessed_img\n",
    "  input_tensor = tf.cast(input_tensor,dtype=tf.float32)\n",
    "  image_tflite_np = input_tensor.numpy()\n",
    "\n",
    "\n",
    "  input_details = tflite_interpreter.get_input_details()\n",
    "  output_details = tflite_interpreter.get_output_details() \n",
    "\n",
    "  # Prepare data for TFLite inference\n",
    "  input_shape = input_details[0]['shape'] # tflite model input shape\n",
    "  input_data = image_tflite_np.reshape(input_shape) # tflite model input data as numpy\n",
    "\n",
    "  # This load input_data into tlfite interpreter\n",
    "  interpreter.set_tensor(input_details[0]['index'], input_data)\n",
    "  interpreter.invoke()\n",
    "\n",
    "  # All useful Data from tflite inference: boxes, classes, scores\n",
    "  boxes = interpreter.get_tensor(output_details[1]['index'])\n",
    "  classes = interpreter.get_tensor(output_details[3]['index'])\n",
    "  scores = interpreter.get_tensor(output_details[0]['index'])\n",
    "\n",
    "  return boxes, classes, scores"
   ]
  },
  {
   "cell_type": "code",
   "execution_count": 62,
   "metadata": {},
   "outputs": [],
   "source": [
    "# Load the TFLite model and allocate tensors.\n",
    "interpreter = tf.lite.Interpreter(model_path=tflite_model_path)\n",
    "interpreter.allocate_tensors()\n",
    "\n",
    "# Get Prediction\n",
    "boxes, classes, scores =  get_tflite_predictions(img,interpreter)"
   ]
  },
  {
   "cell_type": "code",
   "execution_count": 55,
   "metadata": {},
   "outputs": [],
   "source": [
    "def post_process_df_prediction(prediction):\n",
    "  prediction_list = []\n",
    "  columns = ['ymin','xmin','ymax','xmax']\n",
    "  prediction_df = pd.DataFrame(prediction[0][0],columns=columns)\n",
    "  prediction_df['class'] = prediction[1][0].astype(np.int8)\n",
    "  prediction_df['score'] = prediction[2][0]\n",
    "  for index, row in prediction_df.iterrows():\n",
    "    prediction_list.append(list(row))\n",
    "  return prediction_list"
   ]
  },
  {
   "cell_type": "code",
   "execution_count": 56,
   "metadata": {},
   "outputs": [],
   "source": [
    "def post_process_prediction(prediction):\n",
    "  prediction_dico_list = []\n",
    "  i  = 0 \n",
    "  for (bbox,classe,score) in zip(prediction[0][0],prediction[1][0],prediction[2][0]):\n",
    "    prediction_dico = {'id':i,'ymin':bbox[0],'xmin':bbox[1],'ymax':bbox[2],'xmax':bbox[3],'class':classe,'score':score}\n",
    "    prediction_dico_list.append(prediction_dico)\n",
    "    i = i+1\n",
    "  return prediction_dico_list"
   ]
  },
  {
   "cell_type": "code",
   "execution_count": 63,
   "metadata": {},
   "outputs": [],
   "source": [
    "prediction = get_tflite_predictions(img,interpreter)\n",
    "post_proc_prediction = post_process_prediction(prediction)"
   ]
  },
  {
   "cell_type": "code",
   "execution_count": null,
   "metadata": {},
   "outputs": [],
   "source": [
    "for e in post_proc_prediction:\n",
    "  print(e)"
   ]
  }
 ],
 "metadata": {
  "interpreter": {
   "hash": "5795bd8c0054127f1bb8e33543dcf146a0412f86b0576855391447d0232ac43b"
  },
  "kernelspec": {
   "display_name": "Python 3.7.11 64-bit ('bluelens_train': conda)",
   "language": "python",
   "name": "python3"
  },
  "language_info": {
   "codemirror_mode": {
    "name": "ipython",
    "version": 3
   },
   "file_extension": ".py",
   "mimetype": "text/x-python",
   "name": "python",
   "nbconvert_exporter": "python",
   "pygments_lexer": "ipython3",
   "version": "3.7.11"
  },
  "orig_nbformat": 4
 },
 "nbformat": 4,
 "nbformat_minor": 2
}
