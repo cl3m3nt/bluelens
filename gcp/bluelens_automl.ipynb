{
 "cells": [
  {
   "cell_type": "code",
   "execution_count": 1,
   "metadata": {},
   "outputs": [],
   "source": [
    "import numpy as np\n",
    "import cv2\n",
    "import tensorflow as tf "
   ]
  },
  {
   "cell_type": "code",
   "execution_count": 2,
   "metadata": {},
   "outputs": [
    {
     "name": "stdout",
     "output_type": "stream",
     "text": [
      "2.8.0-dev20211203\n"
     ]
    }
   ],
   "source": [
    "print(tf.__version__)"
   ]
  },
  {
   "cell_type": "code",
   "execution_count": 7,
   "metadata": {},
   "outputs": [],
   "source": [
    "automl_model_path = \"/Users/clement/Desktop/bluelens/automl/model-6365926034218418176/tflite/2022-01-05T08:16:43.353146Z/model.tflite\""
   ]
  },
  {
   "cell_type": "code",
   "execution_count": 9,
   "metadata": {},
   "outputs": [],
   "source": [
    "import tensorflow as tf\n",
    "\n",
    "# Load the TFLite model and allocate tensors.\n",
    "interpreter = tf.lite.Interpreter(model_path=automl_model_path)\n",
    "interpreter.allocate_tensors()\n",
    "\n",
    "# Get input and output tensors.\n",
    "input_details = interpreter.get_input_details()\n",
    "output_details = interpreter.get_output_details()"
   ]
  },
  {
   "cell_type": "code",
   "execution_count": 9,
   "metadata": {},
   "outputs": [],
   "source": [
    "# Test the model on random input data.\n",
    "input_shape = input_details[0]['shape']\n",
    "input_data = np.array(np.random.random_sample(input_shape), dtype=np.uint8)\n",
    "interpreter.set_tensor(input_details[0]['index'], input_data)\n",
    "\n",
    "interpreter.invoke()\n",
    "\n",
    "# The function `get_tensor()` returns a copy of the tensor data.\n",
    "# Use `tensor()` in order to get a pointer to the tensor.\n",
    "output_data = interpreter.get_tensor(output_details[0]['index'])\n",
    "print(output_data)"
   ]
  },
  {
   "cell_type": "code",
   "execution_count": 68,
   "metadata": {},
   "outputs": [
    {
     "name": "stdout",
     "output_type": "stream",
     "text": [
      "(512, 512, 3)\n",
      "(512, 512, 3)\n"
     ]
    }
   ],
   "source": [
    "# OpenCV read image to Numpy\n",
    "img_test_path = \"/Users/clement/Desktop/bluelens/automl/zz_astropi_1_photo_189.jpg\"\n",
    "img_test = cv2.imread(img_test_path)\n",
    "img_test = cv2.resize(img_test,(512,512)) # resizing using cv2.resize method\n",
    "img_test_np = img_test.astype(np.uint8)\n",
    "print(img_test_np.shape)\n",
    "\n",
    "\n",
    "# PIL open image to Numpy\n",
    "from PIL import Image\n",
    "img_pil = Image.open(img_test_path)\n",
    "img_pil = img_pil.resize((512,512)) # resizing using PIL img.resize method\n",
    "img_pil_np = np.array(img_pil)\n",
    "print(img_pil_np.shape)"
   ]
  },
  {
   "cell_type": "code",
   "execution_count": 1,
   "metadata": {},
   "outputs": [],
   "source": [
    "def prepare_image(img_path):\n",
    "  img = cv2.imread(img_path)\n",
    "  img = cv2.resize(img,(512,512)) # resizing using cv2.resize method\n",
    "  img_np = img.astype(np.uint8)\n",
    "  return img_np"
   ]
  },
  {
   "cell_type": "code",
   "execution_count": 4,
   "metadata": {},
   "outputs": [],
   "source": [
    "import cv2 \n",
    "import numpy as np\n",
    "img_path_1 = \"/Users/clement/Desktop/bluelens/automl/zz_astropi_1_photo_189.jpg\"\n",
    "img_path_2 = \"/Users/clement/Desktop/bluelens/automl/zz_astropi_1_photo_190.jpg\"\n",
    "img_1 = prepare_image(img_path_1)\n",
    "img_2 = prepare_image(img_path_2)"
   ]
  },
  {
   "cell_type": "code",
   "execution_count": 5,
   "metadata": {},
   "outputs": [
    {
     "data": {
      "text/plain": [
       "(512, 512, 3)"
      ]
     },
     "execution_count": 5,
     "metadata": {},
     "output_type": "execute_result"
    }
   ],
   "source": [
    "img_1.shape"
   ]
  },
  {
   "cell_type": "code",
   "execution_count": 12,
   "metadata": {},
   "outputs": [
    {
     "data": {
      "text/plain": [
       "array([  1, 512, 512,   3], dtype=int32)"
      ]
     },
     "execution_count": 12,
     "metadata": {},
     "output_type": "execute_result"
    }
   ],
   "source": [
    "input_shape"
   ]
  },
  {
   "cell_type": "code",
   "execution_count": 10,
   "metadata": {},
   "outputs": [
    {
     "name": "stdout",
     "output_type": "stream",
     "text": [
      "[[[ 1.75625816e-01  8.27086717e-02  4.45459247e-01  2.40346387e-01]\n",
      "  [ 1.40589505e-01  2.92905271e-01  6.32751703e-01  6.23045802e-01]\n",
      "  [ 7.00924039e-01  2.03118339e-01  9.92613912e-01  6.94803953e-01]\n",
      "  [ 1.25138670e-01  6.47781730e-01  7.88786650e-01  8.89877915e-01]\n",
      "  [ 5.37755728e-01  2.07932830e-01  9.05364633e-01  6.43195570e-01]\n",
      "  [ 3.51805121e-01  2.32024580e-01  8.08923244e-01  6.12208128e-01]\n",
      "  [ 1.83966219e-01  5.73507369e-01  7.31984854e-01  8.56648505e-01]\n",
      "  [ 7.34875500e-02  2.27252737e-01  4.64386374e-01  6.69251561e-01]\n",
      "  [ 6.29345953e-01  3.32195252e-01  1.00952959e+00  7.82346845e-01]\n",
      "  [-6.45785592e-04  6.25041306e-01  1.63918771e-02  8.26758683e-01]\n",
      "  [ 9.91178453e-02  1.05838872e-01  4.01077896e-01  2.51949519e-01]\n",
      "  [ 9.72360075e-02  3.86294425e-01  6.72855735e-01  7.66533554e-01]\n",
      "  [ 2.45796740e-01  2.67944485e-01  4.24193323e-01  7.18096137e-01]\n",
      "  [ 7.99796879e-02  5.37673354e-01  7.95043826e-01  7.77008891e-01]\n",
      "  [ 2.20858306e-01  1.08725511e-01  5.41949153e-01  2.54836142e-01]\n",
      "  [ 4.38385695e-01  7.66625181e-02  7.17449188e-01  3.23463202e-01]\n",
      "  [ 4.82062101e-01  2.88582087e-01  1.08422136e+00  5.75510859e-01]\n",
      "  [-9.75379348e-02  2.72666276e-01  7.49248505e-01  5.93140244e-01]\n",
      "  [-1.30852491e-01  4.70272660e-01  9.23349857e-01  8.15644503e-01]\n",
      "  [ 2.94957519e-01  3.00423503e-01  9.27352309e-01  5.36111534e-01]\n",
      "  [ 7.30677009e-01 -9.03304964e-02  9.77477670e-01  5.71881473e-01]\n",
      "  [ 7.04912245e-01  1.64573193e-01  9.67387378e-01  9.60907698e-01]\n",
      "  [ 2.63291180e-01  9.18955624e-01  7.12130308e-01  1.01519096e+00]\n",
      "  [ 4.18079406e-01  9.18955624e-01  8.27409029e-01  1.01519096e+00]\n",
      "  [ 2.25131527e-01  3.96122634e-02  3.92899156e-01  2.94638008e-01]\n",
      "  [ 2.54917800e-01  2.59193182e-01  7.10703075e-01  6.04899764e-01]\n",
      "  [-2.01447815e-01  6.80919528e-01  8.16695571e-01  9.77706552e-01]\n",
      "  [ 6.11301959e-02  1.08477324e-02  7.98497915e-01  2.35923544e-01]\n",
      "  [ 9.30787027e-02  7.16860592e-01  1.02146339e+00  9.48956788e-01]\n",
      "  [-3.26574966e-03  1.74163073e-01  1.44305732e-02  3.72227043e-01]\n",
      "  [ 1.66524976e-01  1.86108887e-01  3.90944511e-01  3.61637235e-01]\n",
      "  [ 4.86981571e-01 -8.61642137e-03  8.83929908e-01  7.78102279e-02]\n",
      "  [ 1.68804392e-01 -1.11848600e-02  5.05034506e-01  1.24126390e-01]\n",
      "  [ 1.50952011e-01  4.46332574e-01  6.92276120e-01  6.79521918e-01]\n",
      "  [-2.84292430e-01  6.23766601e-01  1.05146837e+00  1.02685809e+00]\n",
      "  [ 1.03557765e-01  6.12998724e-01  6.79093421e-01  9.87388253e-01]\n",
      "  [ 6.15469754e-01  4.72141802e-03  1.03880119e+00  4.15247977e-01]\n",
      "  [ 4.95137602e-01  4.95467007e-01  1.08985400e+00  7.46087134e-01]\n",
      "  [ 2.88828136e-03  6.20519698e-01  6.25083270e-03  8.42881143e-01]\n",
      "  [ 3.71032488e-03  6.39265239e-01  7.45449867e-03  8.58237922e-01]]]\n"
     ]
    }
   ],
   "source": [
    "# Actual Data - this load input_data to the interpreter\n",
    "input_shape = input_details[0]['shape']\n",
    "input_data = img_1.reshape(input_shape) # the actual data\n",
    "\n",
    "interpreter.set_tensor(input_details[0]['index'], input_data)\n",
    "interpreter.invoke()\n",
    "\n",
    "output_data = interpreter.get_tensor(output_details[0]['index'])\n",
    "#print(output_data.shape)\n",
    "print(output_data)"
   ]
  },
  {
   "cell_type": "code",
   "execution_count": 105,
   "metadata": {},
   "outputs": [
    {
     "name": "stdout",
     "output_type": "stream",
     "text": [
      "[[[ 9.1380477e-03  2.7907193e-01  3.8207453e-01  6.4072800e-01]\n",
      "  [ 4.6251461e-01  1.7517757e-01  9.5467675e-01  7.1484441e-01]\n",
      "  [ 4.3263823e-02  5.4687810e-01  5.2053916e-01  8.5734868e-01]\n",
      "  [ 3.2435247e-01  2.2949073e-01  8.7405396e-01  8.2306468e-01]\n",
      "  [ 5.1326597e-01  6.2288809e-01  7.8309941e-01  8.2136226e-01]\n",
      "  [ 1.9971468e-01  7.2719336e-02  4.7037673e-01  3.6498329e-01]\n",
      "  [ 6.4338595e-02  6.3797230e-01  6.4231682e-01  8.9148325e-01]\n",
      "  [ 1.3228746e-01  1.9562842e-01  5.9647983e-01  6.2551123e-01]\n",
      "  [ 5.3296137e-01  6.8425733e-01  7.8285074e-01  8.6250216e-01]\n",
      "  [-1.9300520e-02  3.4475401e-01  4.0403086e-01  5.5276310e-01]\n",
      "  [ 2.4886291e-01  1.1071661e-01  5.8930093e-01  4.8979166e-01]\n",
      "  [ 2.9244381e-01  4.9193990e-01  8.1578702e-01  8.5394645e-01]\n",
      "  [ 4.7493985e-01  5.4996610e-03  8.7843347e-01  8.9221179e-01]\n",
      "  [ 6.4675045e-01  1.2501770e-01  9.5748544e-01  8.9715213e-01]\n",
      "  [ 9.4212070e-03  2.4396174e-01  1.8242168e-01  6.8049729e-01]\n",
      "  [ 4.6970278e-02  3.6838937e-01  4.8223302e-01  7.5928819e-01]\n",
      "  [ 2.6269317e-02  2.4802943e-01  7.9851657e-01  5.4940945e-01]\n",
      "  [ 8.6063474e-02  4.0566772e-01  6.2730849e-01  7.8585130e-01]\n",
      "  [ 3.6876845e-01  1.3448092e-01  8.1076729e-01  5.6974363e-01]\n",
      "  [-4.5789182e-02  2.7369851e-01  5.5813092e-01  5.2049917e-01]\n",
      "  [ 3.4216046e-03  5.0701350e-01  6.1668789e-01  7.5763363e-01]\n",
      "  [-7.1632862e-04  7.4346387e-01  7.8336751e-01  9.6853971e-01]\n",
      "  [ 3.4069929e-01  2.1753556e-01  1.1129465e+00  5.7990330e-01]\n",
      "  [ 5.4390824e-01  2.5849339e-01  9.8719954e-01  8.2525790e-01]\n",
      "  [ 6.7788988e-02  1.2032917e-01  1.5969121e-01  2.2424525e-01]\n",
      "  [ 4.6953386e-01  5.5881482e-01  7.4354321e-01  7.6347965e-01]\n",
      "  [ 1.6770676e-01  1.3388312e-01  4.7817740e-01  4.7958970e-01]\n",
      "  [ 4.6522802e-01  9.1077596e-02  7.4347788e-01  7.6663435e-01]\n",
      "  [-1.1821872e-01  2.0025022e-02  6.3056046e-01  2.3829281e-01]\n",
      "  [ 2.1926737e-01  4.3337223e-01  1.0156019e+00  7.7414989e-01]\n",
      "  [ 7.9284027e-02  2.6794448e-01  3.0737072e-01  7.1809614e-01]\n",
      "  [-1.9282931e-01  4.7209746e-01  7.6857579e-01  7.9194206e-01]\n",
      "  [-2.4483123e-01  6.8742615e-01  8.4225285e-01  1.0122206e+00]\n",
      "  [-1.7990634e-01  2.0290624e-01  9.8342228e-01  5.8784777e-01]\n",
      "  [ 4.6408015e-01 -1.8131062e-01  8.2092541e-01  7.0540154e-01]\n",
      "  [-3.3642212e-03  6.2598759e-01  1.5744470e-02  8.0115312e-01]\n",
      "  [ 6.2446900e-02  1.5390471e-01  1.6017160e-01  2.5014010e-01]\n",
      "  [ 2.6017055e-02  6.5706873e-01  4.5464641e-01  8.0500793e-01]\n",
      "  [ 4.6688253e-01  1.9698893e-01  5.9182721e-01  5.8193046e-01]\n",
      "  [ 6.6969156e-02  8.0911279e-01  6.7219889e-01  9.7916698e-01]]]\n"
     ]
    }
   ],
   "source": [
    "# Actual Data - this load input_data to the interpreter\n",
    "input_shape = input_details[0]['shape']\n",
    "input_data = img_2.reshape(input_shape) # the actual data\n",
    "\n",
    "interpreter.set_tensor(input_details[0]['index'], input_data)\n",
    "interpreter.invoke()\n",
    "\n",
    "output_data = interpreter.get_tensor(output_details[0]['index'])\n",
    "#print(output_data.shape)\n",
    "print(output_data)"
   ]
  },
  {
   "cell_type": "code",
   "execution_count": null,
   "metadata": {},
   "outputs": [],
   "source": [
    "# https://github.com/googleapis/python-automl/tree/19dd0a14998818ca8305c5c72a31228c74357433/samples/vision_edge/edge_container_predict"
   ]
  }
 ],
 "metadata": {
  "interpreter": {
   "hash": "c7bcb536a3ecf9bed1032b5f300c226595d5684aca172261ec712d14b491ce75"
  },
  "kernelspec": {
   "display_name": "Python 3.7.11 64-bit ('bluelens_test': conda)",
   "language": "python",
   "name": "python3"
  },
  "language_info": {
   "codemirror_mode": {
    "name": "ipython",
    "version": 3
   },
   "file_extension": ".py",
   "mimetype": "text/x-python",
   "name": "python",
   "nbconvert_exporter": "python",
   "pygments_lexer": "ipython3",
   "version": "3.7.11"
  },
  "orig_nbformat": 4
 },
 "nbformat": 4,
 "nbformat_minor": 2
}
